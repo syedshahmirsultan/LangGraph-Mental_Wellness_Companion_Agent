{
 "cells": [
  {
   "cell_type": "markdown",
   "metadata": {},
   "source": [
    "# Mental Wellness Companion Using LangGraph and Gemini API"
   ]
  },
  {
   "cell_type": "markdown",
   "metadata": {},
   "source": [
    "## Overview\n",
    "This AI Agent aims to create a virtual companion focused on mental wellness. The agent will interact with users through natural language, understand their emotions, and provide personalized responses or exercises."
   ]
  },
  {
   "cell_type": "markdown",
   "metadata": {},
   "source": [
    "## Motivation\n",
    "In this modern era, many people are facing mental health challenges, and most feel uncomfortable sharing their struggles or seeking guidance to address their issues. In fact, some people are unaware of their mental health condition; they believe they are fine but might actually be experiencing mental illness. This AI Agent aims to assess their mental condition and, based on the evaluation, provide motivational content or stress-relief exercises to help improve their well-being—all without the need to disclose their situation to anyone."
   ]
  },
  {
   "cell_type": "markdown",
   "metadata": {},
   "source": [
    "## Key Components\n",
    "1. **Mood Analysis Module**: Leverages Google Generative AI to categorize user input into emotional states (Positive/Negative), enabling targeted support strategies.\n",
    "\n",
    "2. **Dynamic Response Routing**: Implements an intelligent routing mechanism that dynamically selects intervention paths based on detected mood, ensuring personalized emotional support.\n",
    "\n",
    "3. **Motivational Quote Generation**: Dynamically generates contextually relevant motivational quotes tailored to the user's specific emotional condition using generative AI.\n",
    "\n",
    "4. **Stress Relief Intervention**: Provides personalized, condition-specific stress relief exercises when negative emotional states are detected, offering immediate supportive guidance.\n",
    "\n",
    "5. **Success Story Contextualization**: Generates relatable success stories that align with the user's emotional experience, promoting hope and resilience through narrative inspiration.\n",
    "\n",
    "6. **Modular State-Based Workflow**: Utilizes LangGraph's StateGraph to create a flexible, extensible workflow with clear state transitions and conditional logic for emotional support."
   ]
  },
  {
   "cell_type": "markdown",
   "metadata": {},
   "source": [
    "### Installing Required Libraries"
   ]
  },
  {
   "cell_type": "code",
   "execution_count": null,
   "metadata": {},
   "outputs": [],
   "source": [
    "! pip install langgraph langchain_core langchain-google-genai"
   ]
  },
  {
   "cell_type": "markdown",
   "metadata": {},
   "source": [
    "### Importing Necessary Libraries"
   ]
  },
  {
   "cell_type": "code",
   "execution_count": null,
   "metadata": {},
   "outputs": [],
   "source": [
    "from langchain_google_genai import ChatGoogleGenerativeAI\n",
    "from langgraph.graph import START,StateGraph,END\n",
    "from langgraph.graph.state import CompiledStateGraph\n",
    "from langchain_core.prompts import PromptTemplate\n",
    "from IPython.display import Image,display\n",
    "from typing_extensions import TypedDict\n",
    "import os\n",
    "from dotenv import load_dotenv"
   ]
  }
 ],
 "metadata": {
  "kernelspec": {
   "display_name": "streamlit",
   "language": "python",
   "name": "python3"
  },
  "language_info": {
   "codemirror_mode": {
    "name": "ipython",
    "version": 3
   },
   "file_extension": ".py",
   "mimetype": "text/x-python",
   "name": "python",
   "nbconvert_exporter": "python",
   "pygments_lexer": "ipython3",
   "version": "3.11.10"
  }
 },
 "nbformat": 4,
 "nbformat_minor": 2
}
